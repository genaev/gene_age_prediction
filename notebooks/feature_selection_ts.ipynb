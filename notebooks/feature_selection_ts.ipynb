{
 "cells": [
  {
   "cell_type": "code",
   "execution_count": 1,
   "metadata": {},
   "outputs": [],
   "source": [
    "import pandas as pd\n",
    "import numpy as np\n",
    "from sklearn.model_selection import train_test_split\n",
    "import tsfresh\n",
    "from tsfresh.feature_extraction.settings import ComprehensiveFCParameters, MinimalFCParameters, EfficientFCParameters\n",
    "from tsfresh.feature_extraction.extraction import _do_extraction_on_chunk, generate_data_chunk_format\n",
    "from tsfresh import extract_features, extract_relevant_features\n",
    "from tsfresh.feature_selection.relevance import calculate_relevance_table\n",
    "from tsfresh.utilities.dataframe_functions import impute\n",
    "import json\n",
    "from sklearn.utils import shuffle\n"
   ]
  },
  {
   "cell_type": "code",
   "execution_count": 2,
   "metadata": {},
   "outputs": [],
   "source": [
    "df = pd.read_csv(\"All_prog_ident_tt.csv\").set_index(['Id_gene'])\n",
    "df = df.astype({\n",
    "    'Alignment length_1': 'float64',\n",
    "    'Number of mismatches_1': 'float64',\n",
    "    'Number of gap opens_1': 'float64',\n",
    "    'Start position in query_1': 'float64',\n",
    "    'End position in query_1': 'float64',\n",
    "    'Start position in target_1': 'float64',\n",
    "    'End position in target_1': 'float64',\n",
    "})\n",
    "df = df[df.columns.drop(list(df.filter(regex='Target_')))]\n",
    "df['target'] = df.Age.apply( lambda x: 0 if (x<=12) else 1 )"
   ]
  },
  {
   "cell_type": "code",
   "execution_count": 3,
   "metadata": {},
   "outputs": [],
   "source": [
    "for i in range(1,11):\n",
    "    s_q = f'Start position in query_{i}'\n",
    "    e_q = f'End position in query_{i}'\n",
    "    q_l = f'Query len_{i}'\n",
    "    df[q_l] = df[e_q] - df[s_q]\n",
    "    \n",
    "    s_t = f'Start position in target_{i}'\n",
    "    e_t = f'End position in target_{i}'\n",
    "    t_l = f'Target len_{i}'\n",
    "    df[t_l] = df[e_t] - df[s_t]\n",
    "    lens_ratio = f'Query Target lens ratio_{i}'\n",
    "    df[lens_ratio] = df[q_l] / df[t_l]\n",
    "    \n",
    "    m = f'Number of mismatches_{i}'\n",
    "    g = f'Number of gap opens_{i}'\n",
    "    a_l = f'Alignment length_{i}'\n",
    "    al_tl_ratio = f'Alignment len target len ratio_{i}'\n",
    "    al_ql_ratio = f'Alignment len query len ratio_{i}'\n",
    "    mg_ration = f'Mismatches gaps ratio_{i}'   \n",
    "    tl_m_ration = f'Target len mismatches ratio_{i}'\n",
    "    ql_m_ration = f'Query len mismatches ratio_{i}'\n",
    "    tl_g_ration = f'Target len gaps ratio_{i}'\n",
    "    ql_g_ration = f'Query len gaps ratio_{i}'\n",
    "\n",
    "    al_m_ration = f'Alignment len mismatches ratio_{i}'\n",
    "    al_g_ration = f'Alignment len gaps ratio_{i}'\n",
    "\n",
    "    df[al_tl_ratio] = df[a_l] / df[t_l]\n",
    "    df[al_ql_ratio] = df[a_l] / df[q_l]\n",
    "    df[mg_ration] = df[m] / df[g]\n",
    "    df[tl_m_ration] = df[m] / df[t_l]\n",
    "    df[ql_m_ration] = df[m] / df[q_l]\n",
    "    df[tl_g_ration] = df[g] / df[t_l]\n",
    "    df[ql_g_ration] = df[g] / df[q_l]\n",
    "    df[al_m_ration] = df[m] / df[a_l]\n",
    "    df[al_g_ration] = df[g] / df[a_l]\n"
   ]
  },
  {
   "cell_type": "code",
   "execution_count": 4,
   "metadata": {},
   "outputs": [
    {
     "data": {
      "text/html": [
       "<div>\n",
       "<style scoped>\n",
       "    .dataframe tbody tr th:only-of-type {\n",
       "        vertical-align: middle;\n",
       "    }\n",
       "\n",
       "    .dataframe tbody tr th {\n",
       "        vertical-align: top;\n",
       "    }\n",
       "\n",
       "    .dataframe thead th {\n",
       "        text-align: right;\n",
       "    }\n",
       "</style>\n",
       "<table border=\"1\" class=\"dataframe\">\n",
       "  <thead>\n",
       "    <tr style=\"text-align: right;\">\n",
       "      <th></th>\n",
       "      <th>Age</th>\n",
       "      <th>Prog</th>\n",
       "      <th>Percent identity_1</th>\n",
       "      <th>Percent identity_2</th>\n",
       "      <th>Percent identity_3</th>\n",
       "      <th>Percent identity_4</th>\n",
       "      <th>Percent identity_5</th>\n",
       "      <th>Percent identity_6</th>\n",
       "      <th>Percent identity_7</th>\n",
       "      <th>Percent identity_8</th>\n",
       "      <th>...</th>\n",
       "      <th>Query Target lens ratio_10</th>\n",
       "      <th>Alignment len target len ratio_10</th>\n",
       "      <th>Alignment len query len ratio_10</th>\n",
       "      <th>Mismatches gaps ratio_10</th>\n",
       "      <th>Target len mismatches ratio_10</th>\n",
       "      <th>Query len mismatches ratio_10</th>\n",
       "      <th>Target len gaps ratio_10</th>\n",
       "      <th>Query len gaps ratio_10</th>\n",
       "      <th>Alignment len mismatches ratio_10</th>\n",
       "      <th>Alignment len gaps ratio_10</th>\n",
       "    </tr>\n",
       "    <tr>\n",
       "      <th>Id_gene</th>\n",
       "      <th></th>\n",
       "      <th></th>\n",
       "      <th></th>\n",
       "      <th></th>\n",
       "      <th></th>\n",
       "      <th></th>\n",
       "      <th></th>\n",
       "      <th></th>\n",
       "      <th></th>\n",
       "      <th></th>\n",
       "      <th></th>\n",
       "      <th></th>\n",
       "      <th></th>\n",
       "      <th></th>\n",
       "      <th></th>\n",
       "      <th></th>\n",
       "      <th></th>\n",
       "      <th></th>\n",
       "      <th></th>\n",
       "      <th></th>\n",
       "      <th></th>\n",
       "    </tr>\n",
       "  </thead>\n",
       "  <tbody>\n",
       "  </tbody>\n",
       "</table>\n",
       "<p>0 rows × 223 columns</p>\n",
       "</div>"
      ],
      "text/plain": [
       "Empty DataFrame\n",
       "Columns: [Age, Prog, Percent identity_1, Percent identity_2, Percent identity_3, Percent identity_4, Percent identity_5, Percent identity_6, Percent identity_7, Percent identity_8, Percent identity_9, Percent identity_10, Alignment length_1, Alignment length_2, Alignment length_3, Alignment length_4, Alignment length_5, Alignment length_6, Alignment length_7, Alignment length_8, Alignment length_9, Alignment length_10, Number of mismatches_1, Number of mismatches_2, Number of mismatches_3, Number of mismatches_4, Number of mismatches_5, Number of mismatches_6, Number of mismatches_7, Number of mismatches_8, Number of mismatches_9, Number of mismatches_10, Number of gap opens_1, Number of gap opens_2, Number of gap opens_3, Number of gap opens_4, Number of gap opens_5, Number of gap opens_6, Number of gap opens_7, Number of gap opens_8, Number of gap opens_9, Number of gap opens_10, Start position in query_1, Start position in query_2, Start position in query_3, Start position in query_4, Start position in query_5, Start position in query_6, Start position in query_7, Start position in query_8, Start position in query_9, Start position in query_10, End position in query_1, End position in query_2, End position in query_3, End position in query_4, End position in query_5, End position in query_6, End position in query_7, End position in query_8, End position in query_9, End position in query_10, Start position in target_1, Start position in target_2, Start position in target_3, Start position in target_4, Start position in target_5, Start position in target_6, Start position in target_7, Start position in target_8, Start position in target_9, Start position in target_10, End position in target_1, End position in target_2, End position in target_3, End position in target_4, End position in target_5, End position in target_6, End position in target_7, End position in target_8, End position in target_9, End position in target_10, E-value_1, E-value_2, E-value_3, E-value_4, E-value_5, E-value_6, E-value_7, E-value_8, E-value_9, E-value_10, Bit score_1, Bit score_2, Bit score_3, Bit score_4, Bit score_5, Bit score_6, Bit score_7, Bit score_8, ...]\n",
       "Index: []\n",
       "\n",
       "[0 rows x 223 columns]"
      ]
     },
     "execution_count": 4,
     "metadata": {},
     "output_type": "execute_result"
    }
   ],
   "source": [
    "df = df.replace([np.inf, -np.inf], np.nan).fillna(-999)\n",
    "df[df.isin([np.nan, np.inf, -np.inf]).any(1)]"
   ]
  },
  {
   "cell_type": "code",
   "execution_count": 6,
   "metadata": {},
   "outputs": [],
   "source": [
    "df_blast = df[df.Prog == 'Blast']\n",
    "train_df, test_df = train_test_split(df_blast, test_size=0.93, random_state=42, stratify=df_blast.target)\n",
    "train_df = df.loc[train_df.index].reset_index()\n",
    "test_df = df.loc[test_df.index].reset_index()\n",
    "y = train_df.target"
   ]
  },
  {
   "cell_type": "code",
   "execution_count": 7,
   "metadata": {},
   "outputs": [],
   "source": [
    "traits = [x[:-3] for x in list(df.filter(regex='_10'))]\n",
    "res = []\n",
    "for index, row in train_df.iterrows():\n",
    "    for i in range(1,11):\n",
    "        res.append([index, i-1, *[row[f'{t}_{i}'] for t in traits]])\n",
    "timeseries = pd.DataFrame(res,columns=['id','time',*traits])"
   ]
  },
  {
   "cell_type": "code",
   "execution_count": 8,
   "metadata": {},
   "outputs": [
    {
     "data": {
      "text/plain": [
       "((62740, 24), (6274,))"
      ]
     },
     "execution_count": 8,
     "metadata": {},
     "output_type": "execute_result"
    }
   ],
   "source": [
    "timeseries.shape, y.shape"
   ]
  },
  {
   "cell_type": "code",
   "execution_count": 9,
   "metadata": {},
   "outputs": [],
   "source": [
    "EfficientFCParameters = EfficientFCParameters()\n",
    "del EfficientFCParameters['binned_entropy']"
   ]
  },
  {
   "cell_type": "code",
   "execution_count": 13,
   "metadata": {},
   "outputs": [
    {
     "name": "stderr",
     "output_type": "stream",
     "text": [
      "Feature Extraction: 100%|██████████| 60/60 [04:57<00:00,  4.96s/it]\n"
     ]
    }
   ],
   "source": [
    "X_mann = extract_relevant_features(timeseries, y,\n",
    "                                   chunksize=100,\n",
    "                                   column_id='id', column_sort='time',\n",
    "                                   n_jobs=12, ml_task='classification',\n",
    "                                   default_fc_parameters=EfficientFCParameters,\n",
    "                                   fdr_level=0.001,\n",
    "                                   test_for_binary_target_real_feature='mann'\n",
    "                                   #kind_to_fc_parameters=kind_to_fc_parameters,\n",
    "                                  )"
   ]
  },
  {
   "cell_type": "code",
   "execution_count": 14,
   "metadata": {},
   "outputs": [
    {
     "name": "stderr",
     "output_type": "stream",
     "text": [
      "Feature Extraction: 100%|██████████| 60/60 [05:02<00:00,  5.04s/it]\n"
     ]
    }
   ],
   "source": [
    "X_smir = extract_relevant_features(timeseries, y,\n",
    "                                   chunksize=100,\n",
    "                                   column_id='id', column_sort='time',\n",
    "                                   n_jobs=12, ml_task='classification',\n",
    "                                   default_fc_parameters=EfficientFCParameters,\n",
    "                                   fdr_level=0.001,\n",
    "                                   test_for_binary_target_real_feature='smir'\n",
    "                                   #kind_to_fc_parameters=kind_to_fc_parameters,\n",
    "                                  )\n"
   ]
  },
  {
   "cell_type": "code",
   "execution_count": 15,
   "metadata": {},
   "outputs": [
    {
     "data": {
      "text/plain": [
       "(4200, (6274, 4319), (6274, 5275))"
      ]
     },
     "execution_count": 15,
     "metadata": {},
     "output_type": "execute_result"
    }
   ],
   "source": [
    "feats = list(\n",
    "    set(X_mann.columns.to_list()) &\n",
    "    set(X_smir.columns.to_list())\n",
    ")\n",
    "len(feats), X_mann.shape, X_smir.shape"
   ]
  },
  {
   "cell_type": "code",
   "execution_count": 16,
   "metadata": {},
   "outputs": [],
   "source": [
    "X = X_mann[feats]"
   ]
  },
  {
   "cell_type": "code",
   "execution_count": 17,
   "metadata": {},
   "outputs": [],
   "source": [
    "kind_to_fc_parameters = tsfresh.feature_extraction.settings.from_columns(X)\n",
    "# Serialize data into file:\n",
    "json.dump( kind_to_fc_parameters, open( \"kind_to_fc_parameters.json\", 'w' ) )"
   ]
  }
 ],
 "metadata": {
  "kernelspec": {
   "display_name": "Python 3",
   "language": "python",
   "name": "python3"
  },
  "language_info": {
   "codemirror_mode": {
    "name": "ipython",
    "version": 3
   },
   "file_extension": ".py",
   "mimetype": "text/x-python",
   "name": "python",
   "nbconvert_exporter": "python",
   "pygments_lexer": "ipython3",
   "version": "3.7.3"
  }
 },
 "nbformat": 4,
 "nbformat_minor": 4
}

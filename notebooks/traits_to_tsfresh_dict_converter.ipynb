{
 "cells": [
  {
   "cell_type": "markdown",
   "metadata": {},
   "source": [
    "### Example of converting a feature list to a dictionary for tsfresh"
   ]
  },
  {
   "cell_type": "code",
   "execution_count": 10,
   "metadata": {},
   "outputs": [],
   "source": [
    "feats = ['Target len mismatches ratio__maximum',\n",
    " 'Query Target lens ratio__agg_linear_trend__f_agg_\"max\"__chunk_len_5__attr_\"intercept\"',\n",
    " 'Percent identity__energy_ratio_by_chunks__num_segments_10__segment_focus_0',\n",
    " 'Target len mismatches ratio__skewness',\n",
    " 'Percent identity_3',\n",
    " 'Alignment len target len ratio__maximum',\n",
    " 'Percent identity_10',\n",
    " 'Alignment len query len ratio__maximum',\n",
    " 'Alignment len target len ratio_1',\n",
    " 'End position in target__agg_linear_trend__f_agg_\"max\"__chunk_len_5__attr_\"intercept\"',\n",
    " 'Percent identity_4',\n",
    " 'Query Target lens ratio_1',\n",
    " 'Alignment len query len ratio__agg_linear_trend__f_agg_\"max\"__chunk_len_5__attr_\"intercept\"',\n",
    " 'End position in target__quantile__q_0.9',\n",
    " 'Alignment len target len ratio__agg_linear_trend__f_agg_\"max\"__chunk_len_5__attr_\"intercept\"',\n",
    " 'Percent identity__cwt_coefficients__widths_(2, 5, 10, 20)__coeff_0__w_5',\n",
    " 'End position in target__maximum',\n",
    " 'Percent identity__change_quantiles__f_agg_\"mean\"__isabs_True__qh_1.0__ql_0.8',\n",
    " 'Bit score_10',\n",
    " 'Query len mismatches ratio__fft_aggregated__aggtype_\"kurtosis\"',\n",
    " 'Target len mismatches ratio__agg_linear_trend__f_agg_\"max\"__chunk_len_5__attr_\"intercept\"',\n",
    " 'Bit score__energy_ratio_by_chunks__num_segments_10__segment_focus_0',\n",
    " 'Percent identity_8',\n",
    " 'Bit score__fft_aggregated__aggtype_\"centroid\"',\n",
    " 'Bit score__fft_aggregated__aggtype_\"variance\"',\n",
    " 'Percent identity_7',\n",
    " 'Target len mismatches ratio_1']\n",
    "\n",
    "feats2 = ['Target len mismatches ratio__abs_energy',\n",
    " 'Query len mismatches ratio__abs_energy',\n",
    " 'Target len mismatches ratio__fft_coefficient__coeff_0__attr_\"abs\"',\n",
    " 'Alignment len mismatches ratio__fft_coefficient__coeff_0__attr_\"abs\"',\n",
    " 'Alignment len mismatches ratio__agg_linear_trend__f_agg_\"max\"__chunk_len_5__attr_\"intercept\"',\n",
    " 'Bit score__fft_aggregated__aggtype_\"centroid\"',\n",
    " 'Bit score__fft_aggregated__aggtype_\"variance\"',\n",
    " 'Alignment len mismatches ratio__quantile__q_0.1',\n",
    " 'Target len mismatches ratio__cwt_coefficients__widths_(2, 5, 10, 20)__coeff_6__w_10',\n",
    " 'Target len mismatches ratio_3',\n",
    " 'Percent identity__quantile__q_0.1',\n",
    " 'Query len mismatches ratio__cwt_coefficients__widths_(2, 5, 10, 20)__coeff_2__w_5']\n",
    "\n",
    "feats3 = ['Target len mismatches ratio__quantile__q_0.1',\n",
    " 'Query len mismatches ratio_3',\n",
    " 'Target len mismatches ratio__quantile__q_0.6',\n",
    " 'Bit score__fft_aggregated__aggtype_\"variance\"',\n",
    " 'Alignment len mismatches ratio__fft_coefficient__coeff_0__attr_\"abs\"',\n",
    " 'Percent identity_7',\n",
    " 'Target len mismatches ratio__fft_coefficient__coeff_0__attr_\"abs\"',\n",
    " 'Bit score__fft_aggregated__aggtype_\"centroid\"',\n",
    " 'Alignment len mismatches ratio__abs_energy',\n",
    " 'Target len mismatches ratio__abs_energy',\n",
    " 'Target len mismatches ratio_2',\n",
    " 'Query len mismatches ratio_1',\n",
    " 'Percent identity_10',\n",
    " 'Query len mismatches ratio__abs_energy']\n",
    "\n",
    "def get_params(feats):\n",
    "    params = {}\n",
    "    for f in feats:\n",
    "        l = f.split('__')\n",
    "        if len(l)>1:\n",
    "            if l[0] not in params:\n",
    "                params[l[0]] = {}\n",
    "            if len(l)>2:\n",
    "                #print(l[2:])\n",
    "                opts = {}\n",
    "                for opt in l[2:]:\n",
    "                    o = opt.split('_')\n",
    "                    key = '_'.join(o[0:-1])\n",
    "                    val = o[-1]\n",
    "                    val = val.replace('\"', \"\")\n",
    "                    if val.isdigit():\n",
    "                        val=int(val)\n",
    "                    elif val.replace('.','',1).isdigit():\n",
    "                        val=float(val)\n",
    "                    elif val.startswith('(') and val.endswith(')'):\n",
    "                        val = list(map(int,val[1:-1].split(', ')))\n",
    "                    elif val=='True':\n",
    "                        val = True\n",
    "                    elif val=='False':\n",
    "                        val = False\n",
    "                    opts[key] = val\n",
    "                if l[1] not in params[l[0]].keys():\n",
    "                    params[l[0]][l[1]] = []\n",
    "                params[l[0]][l[1]].append(opts)\n",
    "            else:\n",
    "                params[l[0]][l[1]] = None\n",
    "    return params"
   ]
  },
  {
   "cell_type": "code",
   "execution_count": 11,
   "metadata": {},
   "outputs": [
    {
     "data": {
      "text/plain": [
       "{'Target len mismatches ratio': {'quantile': [{'q': 0.1}, {'q': 0.6}],\n",
       "  'fft_coefficient': [{'coeff': 0, 'attr': 'abs'}],\n",
       "  'abs_energy': None},\n",
       " 'Bit score': {'fft_aggregated': [{'aggtype': 'variance'},\n",
       "   {'aggtype': 'centroid'}]},\n",
       " 'Alignment len mismatches ratio': {'fft_coefficient': [{'coeff': 0,\n",
       "    'attr': 'abs'}],\n",
       "  'abs_energy': None},\n",
       " 'Query len mismatches ratio': {'abs_energy': None}}"
      ]
     },
     "execution_count": 11,
     "metadata": {},
     "output_type": "execute_result"
    }
   ],
   "source": [
    "params = get_params(feats3)\n",
    "params"
   ]
  }
 ],
 "metadata": {
  "kernelspec": {
   "display_name": "Python 3",
   "language": "python",
   "name": "python3"
  },
  "language_info": {
   "codemirror_mode": {
    "name": "ipython",
    "version": 3
   },
   "file_extension": ".py",
   "mimetype": "text/x-python",
   "name": "python",
   "nbconvert_exporter": "python",
   "pygments_lexer": "ipython3",
   "version": "3.7.3"
  }
 },
 "nbformat": 4,
 "nbformat_minor": 4
}
